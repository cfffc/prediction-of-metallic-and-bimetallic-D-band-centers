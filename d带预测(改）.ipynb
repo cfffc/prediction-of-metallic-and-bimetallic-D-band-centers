{
 "cells": [
  {
   "cell_type": "code",
   "execution_count": 1,
   "id": "fd854e31",
   "metadata": {},
   "outputs": [],
   "source": [
    "import numpy as np\n",
    "import pandas as pd"
   ]
  },
  {
   "cell_type": "markdown",
   "id": "8008d3cd",
   "metadata": {},
   "source": [
    "### 数据处理"
   ]
  },
  {
   "cell_type": "code",
   "execution_count": 2,
   "id": "b2855a27",
   "metadata": {},
   "outputs": [],
   "source": [
    "with open('./dcenter_data.csv',encoding='UTF-8') as f:\n",
    "    df=pd.read_csv(f,index_col=0)"
   ]
  },
  {
   "cell_type": "code",
   "execution_count": 3,
   "id": "40fb472f",
   "metadata": {
    "scrolled": true
   },
   "outputs": [
    {
     "data": {
      "text/html": [
       "<div>\n",
       "<style scoped>\n",
       "    .dataframe tbody tr th:only-of-type {\n",
       "        vertical-align: middle;\n",
       "    }\n",
       "\n",
       "    .dataframe tbody tr th {\n",
       "        vertical-align: top;\n",
       "    }\n",
       "\n",
       "    .dataframe thead th {\n",
       "        text-align: right;\n",
       "    }\n",
       "</style>\n",
       "<table border=\"1\" class=\"dataframe\">\n",
       "  <thead>\n",
       "    <tr style=\"text-align: right;\">\n",
       "      <th></th>\n",
       "      <th>Fe</th>\n",
       "      <th>Co</th>\n",
       "      <th>Ni</th>\n",
       "      <th>Cu</th>\n",
       "      <th>Ru</th>\n",
       "      <th>Rh</th>\n",
       "      <th>Pd</th>\n",
       "      <th>Ag</th>\n",
       "      <th>Ir</th>\n",
       "      <th>Pt</th>\n",
       "      <th>Au</th>\n",
       "    </tr>\n",
       "  </thead>\n",
       "  <tbody>\n",
       "    <tr>\n",
       "      <th>Fe</th>\n",
       "      <td>-0.92</td>\n",
       "      <td>0.05</td>\n",
       "      <td>-0.20</td>\n",
       "      <td>-0.13</td>\n",
       "      <td>-0.29</td>\n",
       "      <td>-0.54</td>\n",
       "      <td>-1.24</td>\n",
       "      <td>-0.83</td>\n",
       "      <td>-0.36</td>\n",
       "      <td>-1.09</td>\n",
       "      <td>-1.42</td>\n",
       "    </tr>\n",
       "    <tr>\n",
       "      <th>Co</th>\n",
       "      <td>0.01</td>\n",
       "      <td>-1.17</td>\n",
       "      <td>-0.28</td>\n",
       "      <td>-0.16</td>\n",
       "      <td>-0.24</td>\n",
       "      <td>-0.58</td>\n",
       "      <td>-1.37</td>\n",
       "      <td>-0.91</td>\n",
       "      <td>-0.36</td>\n",
       "      <td>-1.19</td>\n",
       "      <td>-1.56</td>\n",
       "    </tr>\n",
       "    <tr>\n",
       "      <th>Ni</th>\n",
       "      <td>0.09</td>\n",
       "      <td>0.19</td>\n",
       "      <td>-1.29</td>\n",
       "      <td>0.19</td>\n",
       "      <td>-0.14</td>\n",
       "      <td>-0.31</td>\n",
       "      <td>-0.97</td>\n",
       "      <td>-0.53</td>\n",
       "      <td>-0.14</td>\n",
       "      <td>-0.80</td>\n",
       "      <td>-1.13</td>\n",
       "    </tr>\n",
       "    <tr>\n",
       "      <th>Cu</th>\n",
       "      <td>0.56</td>\n",
       "      <td>0.60</td>\n",
       "      <td>0.27</td>\n",
       "      <td>-2.67</td>\n",
       "      <td>0.58</td>\n",
       "      <td>0.32</td>\n",
       "      <td>-0.64</td>\n",
       "      <td>-0.70</td>\n",
       "      <td>0.58</td>\n",
       "      <td>-0.33</td>\n",
       "      <td>-1.09</td>\n",
       "    </tr>\n",
       "    <tr>\n",
       "      <th>Ru</th>\n",
       "      <td>0.21</td>\n",
       "      <td>0.26</td>\n",
       "      <td>0.01</td>\n",
       "      <td>0.12</td>\n",
       "      <td>-1.41</td>\n",
       "      <td>-0.17</td>\n",
       "      <td>-0.82</td>\n",
       "      <td>-0.27</td>\n",
       "      <td>0.02</td>\n",
       "      <td>-0.62</td>\n",
       "      <td>-0.84</td>\n",
       "    </tr>\n",
       "    <tr>\n",
       "      <th>Rh</th>\n",
       "      <td>0.24</td>\n",
       "      <td>0.34</td>\n",
       "      <td>0.16</td>\n",
       "      <td>0.44</td>\n",
       "      <td>0.04</td>\n",
       "      <td>-1.73</td>\n",
       "      <td>-0.54</td>\n",
       "      <td>0.07</td>\n",
       "      <td>0.17</td>\n",
       "      <td>-0.35</td>\n",
       "      <td>-0.49</td>\n",
       "    </tr>\n",
       "    <tr>\n",
       "      <th>Pd</th>\n",
       "      <td>0.37</td>\n",
       "      <td>0.54</td>\n",
       "      <td>0.50</td>\n",
       "      <td>0.94</td>\n",
       "      <td>0.24</td>\n",
       "      <td>0.36</td>\n",
       "      <td>-1.83</td>\n",
       "      <td>0.59</td>\n",
       "      <td>0.53</td>\n",
       "      <td>0.19</td>\n",
       "      <td>0.17</td>\n",
       "    </tr>\n",
       "    <tr>\n",
       "      <th>Ag</th>\n",
       "      <td>0.72</td>\n",
       "      <td>0.84</td>\n",
       "      <td>0.67</td>\n",
       "      <td>0.47</td>\n",
       "      <td>0.84</td>\n",
       "      <td>0.86</td>\n",
       "      <td>0.14</td>\n",
       "      <td>-4.30</td>\n",
       "      <td>1.14</td>\n",
       "      <td>0.50</td>\n",
       "      <td>-0.15</td>\n",
       "    </tr>\n",
       "    <tr>\n",
       "      <th>Ir</th>\n",
       "      <td>0.21</td>\n",
       "      <td>0.27</td>\n",
       "      <td>0.05</td>\n",
       "      <td>0.21</td>\n",
       "      <td>0.09</td>\n",
       "      <td>-0.15</td>\n",
       "      <td>-0.73</td>\n",
       "      <td>-0.13</td>\n",
       "      <td>-2.11</td>\n",
       "      <td>-0.56</td>\n",
       "      <td>-0.74</td>\n",
       "    </tr>\n",
       "    <tr>\n",
       "      <th>Pt</th>\n",
       "      <td>0.33</td>\n",
       "      <td>0.48</td>\n",
       "      <td>0.40</td>\n",
       "      <td>0.72</td>\n",
       "      <td>0.14</td>\n",
       "      <td>0.23</td>\n",
       "      <td>-0.17</td>\n",
       "      <td>0.44</td>\n",
       "      <td>0.38</td>\n",
       "      <td>-2.25</td>\n",
       "      <td>-0.05</td>\n",
       "    </tr>\n",
       "    <tr>\n",
       "      <th>Au</th>\n",
       "      <td>0.63</td>\n",
       "      <td>0.77</td>\n",
       "      <td>0.63</td>\n",
       "      <td>0.55</td>\n",
       "      <td>0.70</td>\n",
       "      <td>0.75</td>\n",
       "      <td>0.17</td>\n",
       "      <td>0.21</td>\n",
       "      <td>0.98</td>\n",
       "      <td>0.46</td>\n",
       "      <td>-3.56</td>\n",
       "    </tr>\n",
       "  </tbody>\n",
       "</table>\n",
       "</div>"
      ],
      "text/plain": [
       "      Fe    Co    Ni    Cu    Ru    Rh    Pd    Ag    Ir    Pt    Au\n",
       "Fe -0.92  0.05 -0.20 -0.13 -0.29 -0.54 -1.24 -0.83 -0.36 -1.09 -1.42\n",
       "Co  0.01 -1.17 -0.28 -0.16 -0.24 -0.58 -1.37 -0.91 -0.36 -1.19 -1.56\n",
       "Ni  0.09  0.19 -1.29  0.19 -0.14 -0.31 -0.97 -0.53 -0.14 -0.80 -1.13\n",
       "Cu  0.56  0.60  0.27 -2.67  0.58  0.32 -0.64 -0.70  0.58 -0.33 -1.09\n",
       "Ru  0.21  0.26  0.01  0.12 -1.41 -0.17 -0.82 -0.27  0.02 -0.62 -0.84\n",
       "Rh  0.24  0.34  0.16  0.44  0.04 -1.73 -0.54  0.07  0.17 -0.35 -0.49\n",
       "Pd  0.37  0.54  0.50  0.94  0.24  0.36 -1.83  0.59  0.53  0.19  0.17\n",
       "Ag  0.72  0.84  0.67  0.47  0.84  0.86  0.14 -4.30  1.14  0.50 -0.15\n",
       "Ir  0.21  0.27  0.05  0.21  0.09 -0.15 -0.73 -0.13 -2.11 -0.56 -0.74\n",
       "Pt  0.33  0.48  0.40  0.72  0.14  0.23 -0.17  0.44  0.38 -2.25 -0.05\n",
       "Au  0.63  0.77  0.63  0.55  0.70  0.75  0.17  0.21  0.98  0.46 -3.56"
      ]
     },
     "execution_count": 3,
     "metadata": {},
     "output_type": "execute_result"
    }
   ],
   "source": [
    "df"
   ]
  },
  {
   "cell_type": "markdown",
   "id": "fa19addd",
   "metadata": {},
   "source": [
    "查看数据"
   ]
  },
  {
   "cell_type": "code",
   "execution_count": 4,
   "id": "b84440e2",
   "metadata": {
    "scrolled": true
   },
   "outputs": [
    {
     "data": {
      "text/plain": [
       "(11, 11)"
      ]
     },
     "execution_count": 4,
     "metadata": {},
     "output_type": "execute_result"
    }
   ],
   "source": [
    "df.shape"
   ]
  },
  {
   "cell_type": "markdown",
   "id": "04fb537e",
   "metadata": {},
   "source": [
    "依次打印数据"
   ]
  },
  {
   "cell_type": "code",
   "execution_count": 5,
   "id": "7b6e7a8d",
   "metadata": {},
   "outputs": [
    {
     "name": "stdout",
     "output_type": "stream",
     "text": [
      "host Fe guest Fe val: -0.92\n",
      "host Fe guest Co val: 0.05\n",
      "host Fe guest Ni val: -0.2\n",
      "host Fe guest Cu val: -0.13\n",
      "host Fe guest Ru val: -0.29\n",
      "host Fe guest Rh val: -0.54\n",
      "host Fe guest Pd val: -1.24\n",
      "host Fe guest Ag val: -0.83\n",
      "host Fe guest Ir val: -0.36\n",
      "host Fe guest Pt val: -1.09\n",
      "host Fe guest Au val: -1.42\n",
      "host Co guest Fe val: 0.01\n",
      "host Co guest Co val: -1.17\n",
      "host Co guest Ni val: -0.28\n",
      "host Co guest Cu val: -0.16\n",
      "host Co guest Ru val: -0.24\n",
      "host Co guest Rh val: -0.58\n",
      "host Co guest Pd val: -1.37\n",
      "host Co guest Ag val: -0.91\n",
      "host Co guest Ir val: -0.36\n",
      "host Co guest Pt val: -1.19\n",
      "host Co guest Au val: -1.56\n",
      "host Ni guest Fe val: 0.09\n",
      "host Ni guest Co val: 0.19\n",
      "host Ni guest Ni val: -1.29\n",
      "host Ni guest Cu val: 0.19\n",
      "host Ni guest Ru val: -0.14\n",
      "host Ni guest Rh val: -0.31\n",
      "host Ni guest Pd val: -0.97\n",
      "host Ni guest Ag val: -0.53\n",
      "host Ni guest Ir val: -0.14\n",
      "host Ni guest Pt val: -0.8\n",
      "host Ni guest Au val: -1.13\n",
      "host Cu guest Fe val: 0.56\n",
      "host Cu guest Co val: 0.6\n",
      "host Cu guest Ni val: 0.27\n",
      "host Cu guest Cu val: -2.67\n",
      "host Cu guest Ru val: 0.58\n",
      "host Cu guest Rh val: 0.32\n",
      "host Cu guest Pd val: -0.64\n",
      "host Cu guest Ag val: -0.7\n",
      "host Cu guest Ir val: 0.58\n",
      "host Cu guest Pt val: -0.33\n",
      "host Cu guest Au val: -1.09\n",
      "host Ru guest Fe val: 0.21\n",
      "host Ru guest Co val: 0.26\n",
      "host Ru guest Ni val: 0.01\n",
      "host Ru guest Cu val: 0.12\n",
      "host Ru guest Ru val: -1.41\n",
      "host Ru guest Rh val: -0.17\n",
      "host Ru guest Pd val: -0.82\n",
      "host Ru guest Ag val: -0.27\n",
      "host Ru guest Ir val: 0.02\n",
      "host Ru guest Pt val: -0.62\n",
      "host Ru guest Au val: -0.84\n",
      "host Rh guest Fe val: 0.24\n",
      "host Rh guest Co val: 0.34\n",
      "host Rh guest Ni val: 0.16\n",
      "host Rh guest Cu val: 0.44\n",
      "host Rh guest Ru val: 0.04\n",
      "host Rh guest Rh val: -1.73\n",
      "host Rh guest Pd val: -0.54\n",
      "host Rh guest Ag val: 0.07\n",
      "host Rh guest Ir val: 0.17\n",
      "host Rh guest Pt val: -0.35\n",
      "host Rh guest Au val: -0.49\n",
      "host Pd guest Fe val: 0.37\n",
      "host Pd guest Co val: 0.54\n",
      "host Pd guest Ni val: 0.5\n",
      "host Pd guest Cu val: 0.94\n",
      "host Pd guest Ru val: 0.24\n",
      "host Pd guest Rh val: 0.36\n",
      "host Pd guest Pd val: -1.83\n",
      "host Pd guest Ag val: 0.59\n",
      "host Pd guest Ir val: 0.53\n",
      "host Pd guest Pt val: 0.19\n",
      "host Pd guest Au val: 0.17\n",
      "host Ag guest Fe val: 0.72\n",
      "host Ag guest Co val: 0.84\n",
      "host Ag guest Ni val: 0.67\n",
      "host Ag guest Cu val: 0.47\n",
      "host Ag guest Ru val: 0.84\n",
      "host Ag guest Rh val: 0.86\n",
      "host Ag guest Pd val: 0.14\n",
      "host Ag guest Ag val: -4.3\n",
      "host Ag guest Ir val: 1.14\n",
      "host Ag guest Pt val: 0.5\n",
      "host Ag guest Au val: -0.15\n",
      "host Ir guest Fe val: 0.21\n",
      "host Ir guest Co val: 0.27\n",
      "host Ir guest Ni val: 0.05\n",
      "host Ir guest Cu val: 0.21\n",
      "host Ir guest Ru val: 0.09\n",
      "host Ir guest Rh val: -0.15\n",
      "host Ir guest Pd val: -0.73\n",
      "host Ir guest Ag val: -0.13\n",
      "host Ir guest Ir val: -2.11\n",
      "host Ir guest Pt val: -0.56\n",
      "host Ir guest Au val: -0.74\n",
      "host Pt guest Fe val: 0.33\n",
      "host Pt guest Co val: 0.48\n",
      "host Pt guest Ni val: 0.4\n",
      "host Pt guest Cu val: 0.72\n",
      "host Pt guest Ru val: 0.14\n",
      "host Pt guest Rh val: 0.23\n",
      "host Pt guest Pd val: -0.17\n",
      "host Pt guest Ag val: 0.44\n",
      "host Pt guest Ir val: 0.38\n",
      "host Pt guest Pt val: -2.25\n",
      "host Pt guest Au val: -0.05\n",
      "host Au guest Fe val: 0.63\n",
      "host Au guest Co val: 0.77\n",
      "host Au guest Ni val: 0.63\n",
      "host Au guest Cu val: 0.55\n",
      "host Au guest Ru val: 0.7\n",
      "host Au guest Rh val: 0.75\n",
      "host Au guest Pd val: 0.17\n",
      "host Au guest Ag val: 0.21\n",
      "host Au guest Ir val: 0.98\n",
      "host Au guest Pt val: 0.46\n",
      "host Au guest Au val: -3.56\n"
     ]
    }
   ],
   "source": [
    "for i in df.index:\n",
    "    for j in df.columns:\n",
    "        print('host '+i+' guest '+j+' val: '+str(df.loc[i,j]))"
   ]
  },
  {
   "cell_type": "markdown",
   "id": "1ecf7d2d",
   "metadata": {},
   "source": [
    "处理数据，将相对值改为绝对值"
   ]
  },
  {
   "cell_type": "code",
   "execution_count": 6,
   "id": "dd5dab99",
   "metadata": {
    "scrolled": true
   },
   "outputs": [
    {
     "data": {
      "text/html": [
       "<div>\n",
       "<style scoped>\n",
       "    .dataframe tbody tr th:only-of-type {\n",
       "        vertical-align: middle;\n",
       "    }\n",
       "\n",
       "    .dataframe tbody tr th {\n",
       "        vertical-align: top;\n",
       "    }\n",
       "\n",
       "    .dataframe thead th {\n",
       "        text-align: right;\n",
       "    }\n",
       "</style>\n",
       "<table border=\"1\" class=\"dataframe\">\n",
       "  <thead>\n",
       "    <tr style=\"text-align: right;\">\n",
       "      <th></th>\n",
       "      <th>Fe</th>\n",
       "      <th>Co</th>\n",
       "      <th>Ni</th>\n",
       "      <th>Cu</th>\n",
       "      <th>Ru</th>\n",
       "      <th>Rh</th>\n",
       "      <th>Pd</th>\n",
       "      <th>Ag</th>\n",
       "      <th>Ir</th>\n",
       "      <th>Pt</th>\n",
       "      <th>Au</th>\n",
       "    </tr>\n",
       "  </thead>\n",
       "  <tbody>\n",
       "    <tr>\n",
       "      <th>Fe</th>\n",
       "      <td>-0.92</td>\n",
       "      <td>-0.87</td>\n",
       "      <td>-1.12</td>\n",
       "      <td>-1.05</td>\n",
       "      <td>-1.21</td>\n",
       "      <td>-1.46</td>\n",
       "      <td>-2.16</td>\n",
       "      <td>-1.75</td>\n",
       "      <td>-1.28</td>\n",
       "      <td>-2.01</td>\n",
       "      <td>-2.34</td>\n",
       "    </tr>\n",
       "    <tr>\n",
       "      <th>Co</th>\n",
       "      <td>-1.16</td>\n",
       "      <td>-1.17</td>\n",
       "      <td>-1.45</td>\n",
       "      <td>-1.33</td>\n",
       "      <td>-1.41</td>\n",
       "      <td>-1.75</td>\n",
       "      <td>-2.54</td>\n",
       "      <td>-2.08</td>\n",
       "      <td>-1.53</td>\n",
       "      <td>-2.36</td>\n",
       "      <td>-2.73</td>\n",
       "    </tr>\n",
       "    <tr>\n",
       "      <th>Ni</th>\n",
       "      <td>-1.20</td>\n",
       "      <td>-1.10</td>\n",
       "      <td>-1.29</td>\n",
       "      <td>-1.10</td>\n",
       "      <td>-1.43</td>\n",
       "      <td>-1.60</td>\n",
       "      <td>-2.26</td>\n",
       "      <td>-1.82</td>\n",
       "      <td>-1.43</td>\n",
       "      <td>-2.09</td>\n",
       "      <td>-2.42</td>\n",
       "    </tr>\n",
       "    <tr>\n",
       "      <th>Cu</th>\n",
       "      <td>-2.11</td>\n",
       "      <td>-2.07</td>\n",
       "      <td>-2.40</td>\n",
       "      <td>-2.67</td>\n",
       "      <td>-2.09</td>\n",
       "      <td>-2.35</td>\n",
       "      <td>-3.31</td>\n",
       "      <td>-3.37</td>\n",
       "      <td>-2.09</td>\n",
       "      <td>-3.00</td>\n",
       "      <td>-3.76</td>\n",
       "    </tr>\n",
       "    <tr>\n",
       "      <th>Ru</th>\n",
       "      <td>-1.20</td>\n",
       "      <td>-1.15</td>\n",
       "      <td>-1.40</td>\n",
       "      <td>-1.29</td>\n",
       "      <td>-1.41</td>\n",
       "      <td>-1.58</td>\n",
       "      <td>-2.23</td>\n",
       "      <td>-1.68</td>\n",
       "      <td>-1.39</td>\n",
       "      <td>-2.03</td>\n",
       "      <td>-2.25</td>\n",
       "    </tr>\n",
       "    <tr>\n",
       "      <th>Rh</th>\n",
       "      <td>-1.49</td>\n",
       "      <td>-1.39</td>\n",
       "      <td>-1.57</td>\n",
       "      <td>-1.29</td>\n",
       "      <td>-1.69</td>\n",
       "      <td>-1.73</td>\n",
       "      <td>-2.27</td>\n",
       "      <td>-1.66</td>\n",
       "      <td>-1.56</td>\n",
       "      <td>-2.08</td>\n",
       "      <td>-2.22</td>\n",
       "    </tr>\n",
       "    <tr>\n",
       "      <th>Pd</th>\n",
       "      <td>-1.46</td>\n",
       "      <td>-1.29</td>\n",
       "      <td>-1.33</td>\n",
       "      <td>-0.89</td>\n",
       "      <td>-1.59</td>\n",
       "      <td>-1.47</td>\n",
       "      <td>-1.83</td>\n",
       "      <td>-1.24</td>\n",
       "      <td>-1.30</td>\n",
       "      <td>-1.64</td>\n",
       "      <td>-1.66</td>\n",
       "    </tr>\n",
       "    <tr>\n",
       "      <th>Ag</th>\n",
       "      <td>-3.58</td>\n",
       "      <td>-3.46</td>\n",
       "      <td>-3.63</td>\n",
       "      <td>-3.83</td>\n",
       "      <td>-3.46</td>\n",
       "      <td>-3.44</td>\n",
       "      <td>-4.16</td>\n",
       "      <td>-4.30</td>\n",
       "      <td>-3.16</td>\n",
       "      <td>-3.80</td>\n",
       "      <td>-4.45</td>\n",
       "    </tr>\n",
       "    <tr>\n",
       "      <th>Ir</th>\n",
       "      <td>-1.90</td>\n",
       "      <td>-1.84</td>\n",
       "      <td>-2.06</td>\n",
       "      <td>-1.90</td>\n",
       "      <td>-2.02</td>\n",
       "      <td>-2.26</td>\n",
       "      <td>-2.84</td>\n",
       "      <td>-2.24</td>\n",
       "      <td>-2.11</td>\n",
       "      <td>-2.67</td>\n",
       "      <td>-2.85</td>\n",
       "    </tr>\n",
       "    <tr>\n",
       "      <th>Pt</th>\n",
       "      <td>-1.92</td>\n",
       "      <td>-1.77</td>\n",
       "      <td>-1.85</td>\n",
       "      <td>-1.53</td>\n",
       "      <td>-2.11</td>\n",
       "      <td>-2.02</td>\n",
       "      <td>-2.42</td>\n",
       "      <td>-1.81</td>\n",
       "      <td>-1.87</td>\n",
       "      <td>-2.25</td>\n",
       "      <td>-2.30</td>\n",
       "    </tr>\n",
       "    <tr>\n",
       "      <th>Au</th>\n",
       "      <td>-2.93</td>\n",
       "      <td>-2.79</td>\n",
       "      <td>-2.93</td>\n",
       "      <td>-3.01</td>\n",
       "      <td>-2.86</td>\n",
       "      <td>-2.81</td>\n",
       "      <td>-3.39</td>\n",
       "      <td>-3.35</td>\n",
       "      <td>-2.58</td>\n",
       "      <td>-3.10</td>\n",
       "      <td>-3.56</td>\n",
       "    </tr>\n",
       "  </tbody>\n",
       "</table>\n",
       "</div>"
      ],
      "text/plain": [
       "      Fe    Co    Ni    Cu    Ru    Rh    Pd    Ag    Ir    Pt    Au\n",
       "Fe -0.92 -0.87 -1.12 -1.05 -1.21 -1.46 -2.16 -1.75 -1.28 -2.01 -2.34\n",
       "Co -1.16 -1.17 -1.45 -1.33 -1.41 -1.75 -2.54 -2.08 -1.53 -2.36 -2.73\n",
       "Ni -1.20 -1.10 -1.29 -1.10 -1.43 -1.60 -2.26 -1.82 -1.43 -2.09 -2.42\n",
       "Cu -2.11 -2.07 -2.40 -2.67 -2.09 -2.35 -3.31 -3.37 -2.09 -3.00 -3.76\n",
       "Ru -1.20 -1.15 -1.40 -1.29 -1.41 -1.58 -2.23 -1.68 -1.39 -2.03 -2.25\n",
       "Rh -1.49 -1.39 -1.57 -1.29 -1.69 -1.73 -2.27 -1.66 -1.56 -2.08 -2.22\n",
       "Pd -1.46 -1.29 -1.33 -0.89 -1.59 -1.47 -1.83 -1.24 -1.30 -1.64 -1.66\n",
       "Ag -3.58 -3.46 -3.63 -3.83 -3.46 -3.44 -4.16 -4.30 -3.16 -3.80 -4.45\n",
       "Ir -1.90 -1.84 -2.06 -1.90 -2.02 -2.26 -2.84 -2.24 -2.11 -2.67 -2.85\n",
       "Pt -1.92 -1.77 -1.85 -1.53 -2.11 -2.02 -2.42 -1.81 -1.87 -2.25 -2.30\n",
       "Au -2.93 -2.79 -2.93 -3.01 -2.86 -2.81 -3.39 -3.35 -2.58 -3.10 -3.56"
      ]
     },
     "execution_count": 6,
     "metadata": {},
     "output_type": "execute_result"
    }
   ],
   "source": [
    "for i in df.index:\n",
    "    for j in df.columns:\n",
    "        if(i!=j):\n",
    "            df.loc[i,j]+=df.loc[i,i]\n",
    "df"
   ]
  },
  {
   "cell_type": "code",
   "execution_count": 7,
   "id": "a9c82a5b",
   "metadata": {},
   "outputs": [
    {
     "data": {
      "text/html": [
       "<div>\n",
       "<style scoped>\n",
       "    .dataframe tbody tr th:only-of-type {\n",
       "        vertical-align: middle;\n",
       "    }\n",
       "\n",
       "    .dataframe tbody tr th {\n",
       "        vertical-align: top;\n",
       "    }\n",
       "\n",
       "    .dataframe thead th {\n",
       "        text-align: right;\n",
       "    }\n",
       "</style>\n",
       "<table border=\"1\" class=\"dataframe\">\n",
       "  <thead>\n",
       "    <tr style=\"text-align: right;\">\n",
       "      <th></th>\n",
       "      <th>G</th>\n",
       "      <th>R/A</th>\n",
       "      <th>AN</th>\n",
       "      <th>AM/g</th>\n",
       "      <th>P</th>\n",
       "      <th>EN</th>\n",
       "      <th>IE/eV</th>\n",
       "      <th>H/J</th>\n",
       "      <th>ρ/g</th>\n",
       "    </tr>\n",
       "    <tr>\n",
       "      <th>Metal</th>\n",
       "      <th></th>\n",
       "      <th></th>\n",
       "      <th></th>\n",
       "      <th></th>\n",
       "      <th></th>\n",
       "      <th></th>\n",
       "      <th></th>\n",
       "      <th></th>\n",
       "      <th></th>\n",
       "    </tr>\n",
       "  </thead>\n",
       "  <tbody>\n",
       "    <tr>\n",
       "      <th>Fe</th>\n",
       "      <td>8</td>\n",
       "      <td>2.66</td>\n",
       "      <td>26</td>\n",
       "      <td>55.85</td>\n",
       "      <td>4</td>\n",
       "      <td>1.83</td>\n",
       "      <td>7.90</td>\n",
       "      <td>247.3</td>\n",
       "      <td>7.87</td>\n",
       "    </tr>\n",
       "    <tr>\n",
       "      <th>Co</th>\n",
       "      <td>9</td>\n",
       "      <td>2.62</td>\n",
       "      <td>27</td>\n",
       "      <td>58.93</td>\n",
       "      <td>4</td>\n",
       "      <td>1.88</td>\n",
       "      <td>7.88</td>\n",
       "      <td>272.5</td>\n",
       "      <td>8.86</td>\n",
       "    </tr>\n",
       "    <tr>\n",
       "      <th>Ni</th>\n",
       "      <td>10</td>\n",
       "      <td>2.60</td>\n",
       "      <td>28</td>\n",
       "      <td>58.69</td>\n",
       "      <td>4</td>\n",
       "      <td>1.91</td>\n",
       "      <td>7.64</td>\n",
       "      <td>290.3</td>\n",
       "      <td>8.90</td>\n",
       "    </tr>\n",
       "    <tr>\n",
       "      <th>Cu</th>\n",
       "      <td>11</td>\n",
       "      <td>2.67</td>\n",
       "      <td>29</td>\n",
       "      <td>63.55</td>\n",
       "      <td>4</td>\n",
       "      <td>1.90</td>\n",
       "      <td>7.73</td>\n",
       "      <td>203.5</td>\n",
       "      <td>8.96</td>\n",
       "    </tr>\n",
       "    <tr>\n",
       "      <th>Ru</th>\n",
       "      <td>8</td>\n",
       "      <td>2.79</td>\n",
       "      <td>44</td>\n",
       "      <td>101.07</td>\n",
       "      <td>5</td>\n",
       "      <td>2.20</td>\n",
       "      <td>7.36</td>\n",
       "      <td>381.8</td>\n",
       "      <td>12.10</td>\n",
       "    </tr>\n",
       "    <tr>\n",
       "      <th>Rh</th>\n",
       "      <td>9</td>\n",
       "      <td>2.81</td>\n",
       "      <td>45</td>\n",
       "      <td>102.91</td>\n",
       "      <td>5</td>\n",
       "      <td>2.28</td>\n",
       "      <td>7.46</td>\n",
       "      <td>258.4</td>\n",
       "      <td>12.40</td>\n",
       "    </tr>\n",
       "    <tr>\n",
       "      <th>Pd</th>\n",
       "      <td>10</td>\n",
       "      <td>2.87</td>\n",
       "      <td>46</td>\n",
       "      <td>106.42</td>\n",
       "      <td>5</td>\n",
       "      <td>2.20</td>\n",
       "      <td>8.34</td>\n",
       "      <td>157.3</td>\n",
       "      <td>12.00</td>\n",
       "    </tr>\n",
       "    <tr>\n",
       "      <th>Ag</th>\n",
       "      <td>11</td>\n",
       "      <td>3.01</td>\n",
       "      <td>47</td>\n",
       "      <td>107.87</td>\n",
       "      <td>5</td>\n",
       "      <td>1.93</td>\n",
       "      <td>7.58</td>\n",
       "      <td>104.6</td>\n",
       "      <td>10.50</td>\n",
       "    </tr>\n",
       "    <tr>\n",
       "      <th>Ir</th>\n",
       "      <td>9</td>\n",
       "      <td>2.84</td>\n",
       "      <td>77</td>\n",
       "      <td>192.22</td>\n",
       "      <td>6</td>\n",
       "      <td>2.20</td>\n",
       "      <td>8.97</td>\n",
       "      <td>213.9</td>\n",
       "      <td>22.50</td>\n",
       "    </tr>\n",
       "    <tr>\n",
       "      <th>Pt</th>\n",
       "      <td>10</td>\n",
       "      <td>2.90</td>\n",
       "      <td>78</td>\n",
       "      <td>195.08</td>\n",
       "      <td>6</td>\n",
       "      <td>2.20</td>\n",
       "      <td>8.96</td>\n",
       "      <td>113.6</td>\n",
       "      <td>21.50</td>\n",
       "    </tr>\n",
       "    <tr>\n",
       "      <th>Au</th>\n",
       "      <td>11</td>\n",
       "      <td>3.00</td>\n",
       "      <td>79</td>\n",
       "      <td>196.97</td>\n",
       "      <td>6</td>\n",
       "      <td>2.40</td>\n",
       "      <td>9.23</td>\n",
       "      <td>64.6</td>\n",
       "      <td>19.30</td>\n",
       "    </tr>\n",
       "  </tbody>\n",
       "</table>\n",
       "</div>"
      ],
      "text/plain": [
       "        G   R/A  AN    AM/g  P    EN  IE/eV    H/J    ρ/g\n",
       "Metal                                                    \n",
       "Fe      8  2.66  26   55.85  4  1.83   7.90  247.3   7.87\n",
       "Co      9  2.62  27   58.93  4  1.88   7.88  272.5   8.86\n",
       "Ni     10  2.60  28   58.69  4  1.91   7.64  290.3   8.90\n",
       "Cu     11  2.67  29   63.55  4  1.90   7.73  203.5   8.96\n",
       "Ru      8  2.79  44  101.07  5  2.20   7.36  381.8  12.10\n",
       "Rh      9  2.81  45  102.91  5  2.28   7.46  258.4  12.40\n",
       "Pd     10  2.87  46  106.42  5  2.20   8.34  157.3  12.00\n",
       "Ag     11  3.01  47  107.87  5  1.93   7.58  104.6  10.50\n",
       "Ir      9  2.84  77  192.22  6  2.20   8.97  213.9  22.50\n",
       "Pt     10  2.90  78  195.08  6  2.20   8.96  113.6  21.50\n",
       "Au     11  3.00  79  196.97  6  2.40   9.23   64.6  19.30"
      ]
     },
     "execution_count": 7,
     "metadata": {},
     "output_type": "execute_result"
    }
   ],
   "source": [
    "with open('./metal_data.csv',encoding='UTF-8') as f:\n",
    "    feature=pd.read_csv(f,index_col=0)\n",
    "feature"
   ]
  },
  {
   "cell_type": "code",
   "execution_count": 8,
   "id": "300fc52c",
   "metadata": {
    "scrolled": false
   },
   "outputs": [
    {
     "data": {
      "text/html": [
       "<div>\n",
       "<style scoped>\n",
       "    .dataframe tbody tr th:only-of-type {\n",
       "        vertical-align: middle;\n",
       "    }\n",
       "\n",
       "    .dataframe tbody tr th {\n",
       "        vertical-align: top;\n",
       "    }\n",
       "\n",
       "    .dataframe thead th {\n",
       "        text-align: right;\n",
       "    }\n",
       "</style>\n",
       "<table border=\"1\" class=\"dataframe\">\n",
       "  <thead>\n",
       "    <tr style=\"text-align: right;\">\n",
       "      <th></th>\n",
       "      <th>G</th>\n",
       "      <th>R/A</th>\n",
       "      <th>ΔfusH</th>\n",
       "    </tr>\n",
       "    <tr>\n",
       "      <th>Metal</th>\n",
       "      <th></th>\n",
       "      <th></th>\n",
       "      <th></th>\n",
       "    </tr>\n",
       "  </thead>\n",
       "  <tbody>\n",
       "    <tr>\n",
       "      <th>Fe</th>\n",
       "      <td>8</td>\n",
       "      <td>2.66</td>\n",
       "      <td>247.3</td>\n",
       "    </tr>\n",
       "    <tr>\n",
       "      <th>Co</th>\n",
       "      <td>9</td>\n",
       "      <td>2.62</td>\n",
       "      <td>272.5</td>\n",
       "    </tr>\n",
       "    <tr>\n",
       "      <th>Ni</th>\n",
       "      <td>10</td>\n",
       "      <td>2.60</td>\n",
       "      <td>290.3</td>\n",
       "    </tr>\n",
       "    <tr>\n",
       "      <th>Cu</th>\n",
       "      <td>11</td>\n",
       "      <td>2.67</td>\n",
       "      <td>203.5</td>\n",
       "    </tr>\n",
       "    <tr>\n",
       "      <th>Ru</th>\n",
       "      <td>8</td>\n",
       "      <td>2.79</td>\n",
       "      <td>381.8</td>\n",
       "    </tr>\n",
       "    <tr>\n",
       "      <th>Rh</th>\n",
       "      <td>9</td>\n",
       "      <td>2.81</td>\n",
       "      <td>258.4</td>\n",
       "    </tr>\n",
       "    <tr>\n",
       "      <th>Pd</th>\n",
       "      <td>10</td>\n",
       "      <td>2.87</td>\n",
       "      <td>157.3</td>\n",
       "    </tr>\n",
       "    <tr>\n",
       "      <th>Ag</th>\n",
       "      <td>11</td>\n",
       "      <td>3.01</td>\n",
       "      <td>104.6</td>\n",
       "    </tr>\n",
       "    <tr>\n",
       "      <th>Ir</th>\n",
       "      <td>9</td>\n",
       "      <td>2.84</td>\n",
       "      <td>213.9</td>\n",
       "    </tr>\n",
       "    <tr>\n",
       "      <th>Pt</th>\n",
       "      <td>10</td>\n",
       "      <td>2.90</td>\n",
       "      <td>113.6</td>\n",
       "    </tr>\n",
       "    <tr>\n",
       "      <th>Au</th>\n",
       "      <td>11</td>\n",
       "      <td>3.00</td>\n",
       "      <td>64.6</td>\n",
       "    </tr>\n",
       "  </tbody>\n",
       "</table>\n",
       "</div>"
      ],
      "text/plain": [
       "        G   R/A  ΔfusH\n",
       "Metal                 \n",
       "Fe      8  2.66  247.3\n",
       "Co      9  2.62  272.5\n",
       "Ni     10  2.60  290.3\n",
       "Cu     11  2.67  203.5\n",
       "Ru      8  2.79  381.8\n",
       "Rh      9  2.81  258.4\n",
       "Pd     10  2.87  157.3\n",
       "Ag     11  3.01  104.6\n",
       "Ir      9  2.84  213.9\n",
       "Pt     10  2.90  113.6\n",
       "Au     11  3.00   64.6"
      ]
     },
     "execution_count": 8,
     "metadata": {},
     "output_type": "execute_result"
    }
   ],
   "source": [
    "with open('./metal_data_top6.csv',encoding='UTF-8') as f:\n",
    "    feature_6=pd.read_csv(f,index_col=0)\n",
    "feature_6"
   ]
  },
  {
   "cell_type": "code",
   "execution_count": 9,
   "id": "28969b87",
   "metadata": {
    "scrolled": true
   },
   "outputs": [
    {
     "data": {
      "text/html": [
       "<div>\n",
       "<style scoped>\n",
       "    .dataframe tbody tr th:only-of-type {\n",
       "        vertical-align: middle;\n",
       "    }\n",
       "\n",
       "    .dataframe tbody tr th {\n",
       "        vertical-align: top;\n",
       "    }\n",
       "\n",
       "    .dataframe thead th {\n",
       "        text-align: right;\n",
       "    }\n",
       "</style>\n",
       "<table border=\"1\" class=\"dataframe\">\n",
       "  <thead>\n",
       "    <tr style=\"text-align: right;\">\n",
       "      <th></th>\n",
       "      <th>R/A</th>\n",
       "      <th>ΔfusH</th>\n",
       "    </tr>\n",
       "    <tr>\n",
       "      <th>Metal</th>\n",
       "      <th></th>\n",
       "      <th></th>\n",
       "    </tr>\n",
       "  </thead>\n",
       "  <tbody>\n",
       "    <tr>\n",
       "      <th>Fe</th>\n",
       "      <td>2.66</td>\n",
       "      <td>247.3</td>\n",
       "    </tr>\n",
       "    <tr>\n",
       "      <th>Co</th>\n",
       "      <td>2.62</td>\n",
       "      <td>272.5</td>\n",
       "    </tr>\n",
       "    <tr>\n",
       "      <th>Ni</th>\n",
       "      <td>2.60</td>\n",
       "      <td>290.3</td>\n",
       "    </tr>\n",
       "    <tr>\n",
       "      <th>Cu</th>\n",
       "      <td>2.67</td>\n",
       "      <td>203.5</td>\n",
       "    </tr>\n",
       "    <tr>\n",
       "      <th>Ru</th>\n",
       "      <td>2.79</td>\n",
       "      <td>381.8</td>\n",
       "    </tr>\n",
       "    <tr>\n",
       "      <th>Rh</th>\n",
       "      <td>2.81</td>\n",
       "      <td>258.4</td>\n",
       "    </tr>\n",
       "    <tr>\n",
       "      <th>Pd</th>\n",
       "      <td>2.87</td>\n",
       "      <td>157.3</td>\n",
       "    </tr>\n",
       "    <tr>\n",
       "      <th>Ag</th>\n",
       "      <td>3.01</td>\n",
       "      <td>104.6</td>\n",
       "    </tr>\n",
       "    <tr>\n",
       "      <th>Ir</th>\n",
       "      <td>2.84</td>\n",
       "      <td>213.9</td>\n",
       "    </tr>\n",
       "    <tr>\n",
       "      <th>Pt</th>\n",
       "      <td>2.90</td>\n",
       "      <td>113.6</td>\n",
       "    </tr>\n",
       "    <tr>\n",
       "      <th>Au</th>\n",
       "      <td>3.00</td>\n",
       "      <td>64.6</td>\n",
       "    </tr>\n",
       "  </tbody>\n",
       "</table>\n",
       "</div>"
      ],
      "text/plain": [
       "        R/A  ΔfusH\n",
       "Metal             \n",
       "Fe     2.66  247.3\n",
       "Co     2.62  272.5\n",
       "Ni     2.60  290.3\n",
       "Cu     2.67  203.5\n",
       "Ru     2.79  381.8\n",
       "Rh     2.81  258.4\n",
       "Pd     2.87  157.3\n",
       "Ag     3.01  104.6\n",
       "Ir     2.84  213.9\n",
       "Pt     2.90  113.6\n",
       "Au     3.00   64.6"
      ]
     },
     "execution_count": 9,
     "metadata": {},
     "output_type": "execute_result"
    }
   ],
   "source": [
    "with open('./metal_data_top4.csv',encoding='UTF-8') as f:\n",
    "    feature_4=pd.read_csv(f,index_col=0)\n",
    "feature_4"
   ]
  },
  {
   "cell_type": "markdown",
   "id": "4e9cd1c2",
   "metadata": {},
   "source": [
    "查看数据"
   ]
  },
  {
   "cell_type": "code",
   "execution_count": 10,
   "id": "aeff2e6c",
   "metadata": {},
   "outputs": [
    {
     "data": {
      "text/html": [
       "<div>\n",
       "<style scoped>\n",
       "    .dataframe tbody tr th:only-of-type {\n",
       "        vertical-align: middle;\n",
       "    }\n",
       "\n",
       "    .dataframe tbody tr th {\n",
       "        vertical-align: top;\n",
       "    }\n",
       "\n",
       "    .dataframe thead th {\n",
       "        text-align: right;\n",
       "    }\n",
       "</style>\n",
       "<table border=\"1\" class=\"dataframe\">\n",
       "  <thead>\n",
       "    <tr style=\"text-align: right;\">\n",
       "      <th></th>\n",
       "      <th>G</th>\n",
       "      <th>R/A</th>\n",
       "      <th>AN</th>\n",
       "      <th>AM/g</th>\n",
       "      <th>P</th>\n",
       "      <th>EN</th>\n",
       "      <th>IE/eV</th>\n",
       "      <th>H/J</th>\n",
       "      <th>ρ/g</th>\n",
       "    </tr>\n",
       "    <tr>\n",
       "      <th>Metal</th>\n",
       "      <th></th>\n",
       "      <th></th>\n",
       "      <th></th>\n",
       "      <th></th>\n",
       "      <th></th>\n",
       "      <th></th>\n",
       "      <th></th>\n",
       "      <th></th>\n",
       "      <th></th>\n",
       "    </tr>\n",
       "  </thead>\n",
       "  <tbody>\n",
       "    <tr>\n",
       "      <th>Fe</th>\n",
       "      <td>8</td>\n",
       "      <td>2.66</td>\n",
       "      <td>26</td>\n",
       "      <td>55.85</td>\n",
       "      <td>4</td>\n",
       "      <td>1.83</td>\n",
       "      <td>7.90</td>\n",
       "      <td>247.3</td>\n",
       "      <td>7.87</td>\n",
       "    </tr>\n",
       "    <tr>\n",
       "      <th>Co</th>\n",
       "      <td>9</td>\n",
       "      <td>2.62</td>\n",
       "      <td>27</td>\n",
       "      <td>58.93</td>\n",
       "      <td>4</td>\n",
       "      <td>1.88</td>\n",
       "      <td>7.88</td>\n",
       "      <td>272.5</td>\n",
       "      <td>8.86</td>\n",
       "    </tr>\n",
       "    <tr>\n",
       "      <th>Ni</th>\n",
       "      <td>10</td>\n",
       "      <td>2.60</td>\n",
       "      <td>28</td>\n",
       "      <td>58.69</td>\n",
       "      <td>4</td>\n",
       "      <td>1.91</td>\n",
       "      <td>7.64</td>\n",
       "      <td>290.3</td>\n",
       "      <td>8.90</td>\n",
       "    </tr>\n",
       "    <tr>\n",
       "      <th>Cu</th>\n",
       "      <td>11</td>\n",
       "      <td>2.67</td>\n",
       "      <td>29</td>\n",
       "      <td>63.55</td>\n",
       "      <td>4</td>\n",
       "      <td>1.90</td>\n",
       "      <td>7.73</td>\n",
       "      <td>203.5</td>\n",
       "      <td>8.96</td>\n",
       "    </tr>\n",
       "    <tr>\n",
       "      <th>Ru</th>\n",
       "      <td>8</td>\n",
       "      <td>2.79</td>\n",
       "      <td>44</td>\n",
       "      <td>101.07</td>\n",
       "      <td>5</td>\n",
       "      <td>2.20</td>\n",
       "      <td>7.36</td>\n",
       "      <td>381.8</td>\n",
       "      <td>12.10</td>\n",
       "    </tr>\n",
       "  </tbody>\n",
       "</table>\n",
       "</div>"
      ],
      "text/plain": [
       "        G   R/A  AN    AM/g  P    EN  IE/eV    H/J    ρ/g\n",
       "Metal                                                    \n",
       "Fe      8  2.66  26   55.85  4  1.83   7.90  247.3   7.87\n",
       "Co      9  2.62  27   58.93  4  1.88   7.88  272.5   8.86\n",
       "Ni     10  2.60  28   58.69  4  1.91   7.64  290.3   8.90\n",
       "Cu     11  2.67  29   63.55  4  1.90   7.73  203.5   8.96\n",
       "Ru      8  2.79  44  101.07  5  2.20   7.36  381.8  12.10"
      ]
     },
     "execution_count": 10,
     "metadata": {},
     "output_type": "execute_result"
    }
   ],
   "source": [
    "feature.head()"
   ]
  },
  {
   "cell_type": "code",
   "execution_count": 11,
   "id": "bed99b1a",
   "metadata": {
    "scrolled": false
   },
   "outputs": [
    {
     "data": {
      "text/html": [
       "<div>\n",
       "<style scoped>\n",
       "    .dataframe tbody tr th:only-of-type {\n",
       "        vertical-align: middle;\n",
       "    }\n",
       "\n",
       "    .dataframe tbody tr th {\n",
       "        vertical-align: top;\n",
       "    }\n",
       "\n",
       "    .dataframe thead th {\n",
       "        text-align: right;\n",
       "    }\n",
       "</style>\n",
       "<table border=\"1\" class=\"dataframe\">\n",
       "  <thead>\n",
       "    <tr style=\"text-align: right;\">\n",
       "      <th></th>\n",
       "      <th>G</th>\n",
       "      <th>R/A</th>\n",
       "      <th>ΔfusH</th>\n",
       "    </tr>\n",
       "    <tr>\n",
       "      <th>Metal</th>\n",
       "      <th></th>\n",
       "      <th></th>\n",
       "      <th></th>\n",
       "    </tr>\n",
       "  </thead>\n",
       "  <tbody>\n",
       "    <tr>\n",
       "      <th>Fe</th>\n",
       "      <td>8</td>\n",
       "      <td>2.66</td>\n",
       "      <td>247.3</td>\n",
       "    </tr>\n",
       "    <tr>\n",
       "      <th>Co</th>\n",
       "      <td>9</td>\n",
       "      <td>2.62</td>\n",
       "      <td>272.5</td>\n",
       "    </tr>\n",
       "    <tr>\n",
       "      <th>Ni</th>\n",
       "      <td>10</td>\n",
       "      <td>2.60</td>\n",
       "      <td>290.3</td>\n",
       "    </tr>\n",
       "    <tr>\n",
       "      <th>Cu</th>\n",
       "      <td>11</td>\n",
       "      <td>2.67</td>\n",
       "      <td>203.5</td>\n",
       "    </tr>\n",
       "    <tr>\n",
       "      <th>Ru</th>\n",
       "      <td>8</td>\n",
       "      <td>2.79</td>\n",
       "      <td>381.8</td>\n",
       "    </tr>\n",
       "  </tbody>\n",
       "</table>\n",
       "</div>"
      ],
      "text/plain": [
       "        G   R/A  ΔfusH\n",
       "Metal                 \n",
       "Fe      8  2.66  247.3\n",
       "Co      9  2.62  272.5\n",
       "Ni     10  2.60  290.3\n",
       "Cu     11  2.67  203.5\n",
       "Ru      8  2.79  381.8"
      ]
     },
     "execution_count": 11,
     "metadata": {},
     "output_type": "execute_result"
    }
   ],
   "source": [
    "feature_6.head()"
   ]
  },
  {
   "cell_type": "code",
   "execution_count": 12,
   "id": "ccd6df8f",
   "metadata": {
    "scrolled": true
   },
   "outputs": [
    {
     "data": {
      "text/html": [
       "<div>\n",
       "<style scoped>\n",
       "    .dataframe tbody tr th:only-of-type {\n",
       "        vertical-align: middle;\n",
       "    }\n",
       "\n",
       "    .dataframe tbody tr th {\n",
       "        vertical-align: top;\n",
       "    }\n",
       "\n",
       "    .dataframe thead th {\n",
       "        text-align: right;\n",
       "    }\n",
       "</style>\n",
       "<table border=\"1\" class=\"dataframe\">\n",
       "  <thead>\n",
       "    <tr style=\"text-align: right;\">\n",
       "      <th></th>\n",
       "      <th>R/A</th>\n",
       "      <th>ΔfusH</th>\n",
       "    </tr>\n",
       "    <tr>\n",
       "      <th>Metal</th>\n",
       "      <th></th>\n",
       "      <th></th>\n",
       "    </tr>\n",
       "  </thead>\n",
       "  <tbody>\n",
       "    <tr>\n",
       "      <th>Fe</th>\n",
       "      <td>2.66</td>\n",
       "      <td>247.3</td>\n",
       "    </tr>\n",
       "    <tr>\n",
       "      <th>Co</th>\n",
       "      <td>2.62</td>\n",
       "      <td>272.5</td>\n",
       "    </tr>\n",
       "    <tr>\n",
       "      <th>Ni</th>\n",
       "      <td>2.60</td>\n",
       "      <td>290.3</td>\n",
       "    </tr>\n",
       "    <tr>\n",
       "      <th>Cu</th>\n",
       "      <td>2.67</td>\n",
       "      <td>203.5</td>\n",
       "    </tr>\n",
       "    <tr>\n",
       "      <th>Ru</th>\n",
       "      <td>2.79</td>\n",
       "      <td>381.8</td>\n",
       "    </tr>\n",
       "  </tbody>\n",
       "</table>\n",
       "</div>"
      ],
      "text/plain": [
       "        R/A  ΔfusH\n",
       "Metal             \n",
       "Fe     2.66  247.3\n",
       "Co     2.62  272.5\n",
       "Ni     2.60  290.3\n",
       "Cu     2.67  203.5\n",
       "Ru     2.79  381.8"
      ]
     },
     "execution_count": 12,
     "metadata": {},
     "output_type": "execute_result"
    }
   ],
   "source": [
    "feature_4.head()"
   ]
  },
  {
   "cell_type": "code",
   "execution_count": 13,
   "id": "e4fc1a11",
   "metadata": {},
   "outputs": [
    {
     "data": {
      "text/plain": [
       "(11, 9)"
      ]
     },
     "execution_count": 13,
     "metadata": {},
     "output_type": "execute_result"
    }
   ],
   "source": [
    "feature.shape"
   ]
  },
  {
   "cell_type": "code",
   "execution_count": 14,
   "id": "64c5cc74",
   "metadata": {},
   "outputs": [
    {
     "data": {
      "text/plain": [
       "(11, 3)"
      ]
     },
     "execution_count": 14,
     "metadata": {},
     "output_type": "execute_result"
    }
   ],
   "source": [
    "feature_6.shape"
   ]
  },
  {
   "cell_type": "code",
   "execution_count": 15,
   "id": "c4203d62",
   "metadata": {
    "scrolled": true
   },
   "outputs": [
    {
     "data": {
      "text/plain": [
       "(11, 2)"
      ]
     },
     "execution_count": 15,
     "metadata": {},
     "output_type": "execute_result"
    }
   ],
   "source": [
    "feature_4.shape"
   ]
  },
  {
   "cell_type": "markdown",
   "id": "e4be3f05",
   "metadata": {},
   "source": [
    "制作输出特征向量"
   ]
  },
  {
   "cell_type": "code",
   "execution_count": 16,
   "id": "ad1b4cbf",
   "metadata": {},
   "outputs": [
    {
     "name": "stdout",
     "output_type": "stream",
     "text": [
      "host:Fe guest  :Co output:-0.87\n"
     ]
    }
   ],
   "source": [
    "y=list()\n",
    "for i in df.index:\n",
    "    for j in df.columns:\n",
    "        y_val=df.loc[i,j]\n",
    "        y.append(y_val)\n",
    "        if(i=='Fe' and j=='Co'):\n",
    "            print('host:'+i+' guest  :'+j+' output:'+str(y_val))"
   ]
  },
  {
   "cell_type": "code",
   "execution_count": 17,
   "id": "b500aec6",
   "metadata": {},
   "outputs": [
    {
     "data": {
      "text/plain": [
       "(121,)"
      ]
     },
     "execution_count": 17,
     "metadata": {},
     "output_type": "execute_result"
    }
   ],
   "source": [
    "y=np.array(y)\n",
    "y.shape"
   ]
  },
  {
   "cell_type": "markdown",
   "id": "4e10353e",
   "metadata": {},
   "source": [
    "制作输入特征向量"
   ]
  },
  {
   "cell_type": "code",
   "execution_count": 18,
   "id": "ce67c85c",
   "metadata": {},
   "outputs": [
    {
     "name": "stdout",
     "output_type": "stream",
     "text": [
      "host:Fe guest  :Co input:[  8.     2.66  26.    55.85   4.     1.83   7.9  247.3    7.87   9.\n",
      "   2.62  27.    58.93   4.     1.88   7.88 272.5    8.86]\n"
     ]
    }
   ],
   "source": [
    "x=list()\n",
    "for i in df.index:\n",
    "    for j in df.columns:\n",
    "        vec_i=feature.loc[i].to_numpy()\n",
    "        vec_j=feature.loc[j].to_numpy()\n",
    "        x_val=np.concatenate((vec_i,vec_j))\n",
    "        x.append(x_val)\n",
    "        if(i=='Fe' and j=='Co'):\n",
    "            print('host:'+i+' guest  :'+j+' input:'+str(x_val))"
   ]
  },
  {
   "cell_type": "code",
   "execution_count": 19,
   "id": "83fd213b",
   "metadata": {},
   "outputs": [],
   "source": [
    "X=np.array(x)"
   ]
  },
  {
   "cell_type": "code",
   "execution_count": 20,
   "id": "8e1ad3eb",
   "metadata": {},
   "outputs": [
    {
     "data": {
      "text/plain": [
       "(121, 18)"
      ]
     },
     "execution_count": 20,
     "metadata": {},
     "output_type": "execute_result"
    }
   ],
   "source": [
    "X.shape"
   ]
  },
  {
   "cell_type": "code",
   "execution_count": 21,
   "id": "fd3144de",
   "metadata": {},
   "outputs": [
    {
     "name": "stdout",
     "output_type": "stream",
     "text": [
      "host:Fe guest  :Co input:[  8.     2.66 247.3    9.     2.62 272.5 ]\n"
     ]
    }
   ],
   "source": [
    "x_6=list()\n",
    "for i in df.index:\n",
    "    for j in df.columns:\n",
    "        vec_i=feature_6.loc[i].to_numpy()\n",
    "        vec_j=feature_6.loc[j].to_numpy()\n",
    "        x_val=np.concatenate((vec_i,vec_j))\n",
    "        y_val=df.loc[i,j]\n",
    "        x_6.append(x_val)\n",
    "        if(i=='Fe' and j=='Co'):\n",
    "            print('host:'+i+' guest  :'+j+' input:'+str(x_val))"
   ]
  },
  {
   "cell_type": "code",
   "execution_count": 22,
   "id": "1ec9ec07",
   "metadata": {},
   "outputs": [],
   "source": [
    "X_6=np.array(x_6)"
   ]
  },
  {
   "cell_type": "code",
   "execution_count": 23,
   "id": "61588b1a",
   "metadata": {},
   "outputs": [
    {
     "data": {
      "text/plain": [
       "(121, 6)"
      ]
     },
     "execution_count": 23,
     "metadata": {},
     "output_type": "execute_result"
    }
   ],
   "source": [
    "X_6.shape"
   ]
  },
  {
   "cell_type": "code",
   "execution_count": 24,
   "id": "d5449128",
   "metadata": {},
   "outputs": [
    {
     "name": "stdout",
     "output_type": "stream",
     "text": [
      "host:Fe guest  :Co input:[  2.66 247.3    2.62 272.5 ]\n"
     ]
    }
   ],
   "source": [
    "x_4=list()\n",
    "for i in df.index:\n",
    "    for j in df.columns:\n",
    "        vec_i=feature_4.loc[i].to_numpy()\n",
    "        vec_j=feature_4.loc[j].to_numpy()\n",
    "        x_val=np.concatenate((vec_i,vec_j))\n",
    "        x_4.append(x_val)\n",
    "        if(i=='Fe' and j=='Co'):\n",
    "            print('host:'+i+' guest  :'+j+' input:'+str(x_val))"
   ]
  },
  {
   "cell_type": "code",
   "execution_count": 25,
   "id": "a456c5b9",
   "metadata": {},
   "outputs": [],
   "source": [
    "X_4=np.array(x_4)"
   ]
  },
  {
   "cell_type": "code",
   "execution_count": 26,
   "id": "73ef4e78",
   "metadata": {},
   "outputs": [
    {
     "data": {
      "text/plain": [
       "(121, 4)"
      ]
     },
     "execution_count": 26,
     "metadata": {},
     "output_type": "execute_result"
    }
   ],
   "source": [
    "X_4.shape"
   ]
  },
  {
   "cell_type": "markdown",
   "id": "ef803ee3",
   "metadata": {},
   "source": [
    "### 进行机器学习处理"
   ]
  },
  {
   "cell_type": "markdown",
   "id": "275a4afc",
   "metadata": {},
   "source": [
    "采用梯度上升回归的方法 18特征"
   ]
  },
  {
   "cell_type": "code",
   "execution_count": 27,
   "id": "45541bca",
   "metadata": {},
   "outputs": [],
   "source": [
    "#打乱数据\n",
    "from sklearn.utils import shuffle\n",
    "X_r,y_r=shuffle(X,y)\n",
    "X_train,y_train=X_r[:-30,:],y_r[:-30]\n",
    "X_test,y_test=X_r[-30:,:],y_r[-30:]\n",
    "#np.savetxt( \"test2_X_train.csv\", X_train, delimiter=\",\" )\n",
    "#np.savetxt( \"test2_y_train.csv\", y_train, delimiter=\",\" )\n",
    "#np.savetxt( \"test2_X_test.csv\", X_test, delimiter=\",\" )\n",
    "#np.savetxt( \"test2_y_test.csv\", y_test, delimiter=\",\" )"
   ]
  },
  {
   "cell_type": "code",
   "execution_count": 28,
   "id": "d5d743b0",
   "metadata": {},
   "outputs": [],
   "source": [
    "from sklearn.ensemble import GradientBoostingRegressor"
   ]
  },
  {
   "cell_type": "code",
   "execution_count": 29,
   "id": "22a5f115",
   "metadata": {},
   "outputs": [],
   "source": [
    "gbr=GradientBoostingRegressor()\n",
    "gbr.fit(X_train,y_train)\n",
    "y_pred_train_gbr=gbr.predict(X_train)\n",
    "y_pred_test_gbr=gbr.predict(X_test)"
   ]
  },
  {
   "cell_type": "code",
   "execution_count": 30,
   "id": "d4b522fa",
   "metadata": {},
   "outputs": [],
   "source": [
    "import matplotlib.pyplot as plt"
   ]
  },
  {
   "cell_type": "code",
   "execution_count": 31,
   "id": "fa2e1f8d",
   "metadata": {},
   "outputs": [
    {
     "data": {
      "text/plain": [
       "Text(0, 0.5, 'prediction')"
      ]
     },
     "execution_count": 31,
     "metadata": {},
     "output_type": "execute_result"
    },
    {
     "data": {
      "image/png": "[encoded data removed]",
      "text/plain": [
       "<Figure size 600x600 with 1 Axes>"
      ]
     },
     "metadata": {},
     "output_type": "display_data"
    }
   ],
   "source": [
    "plt.figure(figsize=(6,6))\n",
    "plt.scatter(y_train,y_pred_train_gbr,alpha=0.5,color='blue',label='training')\n",
    "plt.scatter(y_test,y_pred_test_gbr,alpha=0.5,color='red',label='test')\n",
    "plt.legend()\n",
    "plt.xlabel('DFT')\n",
    "plt.ylabel('prediction')"
   ]
  },
  {
   "cell_type": "code",
   "execution_count": 32,
   "id": "adbcbf77",
   "metadata": {},
   "outputs": [],
   "source": [
    "from sklearn.metrics import mean_squared_error"
   ]
  },
  {
   "cell_type": "code",
   "execution_count": 33,
   "id": "ed6b3528",
   "metadata": {},
   "outputs": [
    {
     "name": "stdout",
     "output_type": "stream",
     "text": [
      "RMSE(training)0.034\n",
      "RMSE(test)0.169\n"
     ]
    }
   ],
   "source": [
    "rmse_tr_gbr=mean_squared_error(y_train,y_pred_train_gbr,squared=False)\n",
    "rmse_te_gbr=mean_squared_error(y_test,y_pred_test_gbr,squared=False)\n",
    "print('RMSE(training)%.3f'%rmse_tr_gbr)\n",
    "print('RMSE(test)%.3f'%rmse_te_gbr)"
   ]
  },
  {
   "cell_type": "code",
   "execution_count": 34,
   "id": "9946aca7",
   "metadata": {},
   "outputs": [],
   "source": [
    "from sklearn.model_selection import cross_val_score\n",
    "from sklearn.model_selection import KFold"
   ]
  },
  {
   "cell_type": "code",
   "execution_count": 35,
   "id": "4d44e1b4",
   "metadata": {},
   "outputs": [
    {
     "name": "stdout",
     "output_type": "stream",
     "text": [
      "cv result:\n",
      "Flod: 10,mean R2:0.970\n",
      "Flod: 10,mean RMSE:-0.129\n"
     ]
    }
   ],
   "source": [
    "crossvalidation=KFold(n_splits=10,shuffle=True)\n",
    "r2_scores_gbr=cross_val_score(gbr,X,y,scoring='r2',cv=crossvalidation)\n",
    "rmse_scores_gbr=cross_val_score(gbr,X,y,scoring='neg_root_mean_squared_error'\n",
    "                               ,cv=crossvalidation)\n",
    "print('cv result:')\n",
    "print('Flod: %i,mean R2:%.3f'%(len(r2_scores_gbr),r2_scores_gbr.mean()))\n",
    "print('Flod: %i,mean RMSE:%.3f'%(len(rmse_scores_gbr),rmse_scores_gbr.mean()))"
   ]
  },
  {
   "cell_type": "markdown",
   "id": "9595f4ef",
   "metadata": {},
   "source": [
    "采用梯度上升回归的方法 6特征"
   ]
  },
  {
   "cell_type": "code",
   "execution_count": 36,
   "id": "3de89af4",
   "metadata": {},
   "outputs": [],
   "source": [
    "#打乱数据\n",
    "X_r_6,y_r_6=shuffle(X_6,y)\n",
    "X_train_6,y_train_6=X_r_6[:-30,:],y_r_6[:-30]\n",
    "X_test_6,y_test_6=X_r_6[-30:,:],y_r_6[-30:]\n",
    "#np.savetxt( \"test2_X_train_6.csv\", X_train_6, delimiter=\",\" )\n",
    "#np.savetxt( \"test2_y_train_6.csv\", y_train_6, delimiter=\",\" )\n",
    "#np.savetxt( \"test2_X_test_6.csv\", X_test_6, delimiter=\",\" )\n",
    "#np.savetxt( \"test2_y_test_6.csv\", y_test_6, delimiter=\",\" )"
   ]
  },
  {
   "cell_type": "code",
   "execution_count": 37,
   "id": "e10e0860",
   "metadata": {},
   "outputs": [],
   "source": [
    "gbr_6=GradientBoostingRegressor()\n",
    "gbr_6.fit(X_train_6,y_train_6)\n",
    "y_pred_train_gbr_6=gbr_6.predict(X_train_6)\n",
    "y_pred_test_gbr_6=gbr_6.predict(X_test_6)"
   ]
  },
  {
   "cell_type": "code",
   "execution_count": 38,
   "id": "77b7a2d3",
   "metadata": {},
   "outputs": [
    {
     "data": {
      "text/plain": [
       "Text(0, 0.5, 'prediction')"
      ]
     },
     "execution_count": 38,
     "metadata": {},
     "output_type": "execute_result"
    },
    {
     "data": {
      "image/png": "[encoded data removed]",
      "text/plain": [
       "<Figure size 600x600 with 1 Axes>"
      ]
     },
     "metadata": {},
     "output_type": "display_data"
    }
   ],
   "source": [
    "plt.figure(figsize=(6,6))\n",
    "plt.scatter(y_train_6,y_pred_train_gbr_6,alpha=0.5,color='blue',label='training')\n",
    "plt.scatter(y_test_6,y_pred_test_gbr_6,alpha=0.5,color='red',label='test')\n",
    "plt.legend()\n",
    "plt.xlabel('DFT_top6')\n",
    "plt.ylabel('prediction')"
   ]
  },
  {
   "cell_type": "code",
   "execution_count": 39,
   "id": "076f8c44",
   "metadata": {},
   "outputs": [
    {
     "name": "stdout",
     "output_type": "stream",
     "text": [
      "RMSE(training_6)0.047\n",
      "RMSE(test_6)0.158\n"
     ]
    }
   ],
   "source": [
    "rmse_tr_gbr_6=mean_squared_error(y_train_6,y_pred_train_gbr_6,squared=False)\n",
    "rmse_te_gbr_6=mean_squared_error(y_test_6,y_pred_test_gbr_6,squared=False)\n",
    "print('RMSE(training_6)%.3f'%rmse_tr_gbr_6)\n",
    "print('RMSE(test_6)%.3f'%rmse_te_gbr_6)"
   ]
  },
  {
   "cell_type": "code",
   "execution_count": 40,
   "id": "98012193",
   "metadata": {},
   "outputs": [
    {
     "name": "stdout",
     "output_type": "stream",
     "text": [
      "cv result:\n",
      "Flod: 10,mean R2_6:0.954\n",
      "Flod: 10,mean RMSE_6:-0.135\n"
     ]
    }
   ],
   "source": [
    "crossvalidation=KFold(n_splits=10,shuffle=True)\n",
    "r2_scores_gbr_6=cross_val_score(gbr_6,X_6,y,scoring='r2',cv=crossvalidation)\n",
    "rmse_scores_gbr_6=cross_val_score(gbr_6,X_6,y,scoring='neg_root_mean_squared_error'\n",
    "                               ,cv=crossvalidation)\n",
    "print('cv result:')\n",
    "print('Flod: %i,mean R2_6:%.3f'%(len(r2_scores_gbr_6),r2_scores_gbr_6.mean()))\n",
    "print('Flod: %i,mean RMSE_6:%.3f'%(len(rmse_scores_gbr_6),rmse_scores_gbr_6.mean()))"
   ]
  },
  {
   "cell_type": "markdown",
   "id": "02df0e9c",
   "metadata": {},
   "source": [
    "采用梯度上升回归的方法 4特征"
   ]
  },
  {
   "cell_type": "code",
   "execution_count": 53,
   "id": "3d4f2784",
   "metadata": {},
   "outputs": [],
   "source": [
    "X_r_4,y_r_4=shuffle(X_4,y)\n",
    "X_train_4,y_train_4=X_r_4[:-30,:],y_r_4[:-30]\n",
    "X_test_4,y_test_4=X_r_4[-30:,:],y_r_4[-30:]\n",
    "y_train_44=np.around(y_train_4,2)\n",
    "y_test_44=np.around(y_test_4,2)\n",
    "np.savetxt(\"y_tarin_f.csv\",y_train_44,delimiter=',')\n",
    "np.savetxt(\"y_test_f.csv\",y_test_44,delimiter=',')\n",
    "#np.savetxt( \"test2_X_train_4.csv\", X_train_4, delimiter=\",\" )\n",
    "#np.savetxt( \"test2_y_train_4.csv\", y_train_4, delimiter=\",\" )\n",
    "#np.savetxt( \"test2_X_test_4.csv\", X_test_4, delimiter=\",\" )\n",
    "#np.savetxt( \"test2_y_test_4.csv\", y_test_4, delimiter=\",\" )"
   ]
  },
  {
   "cell_type": "code",
   "execution_count": 54,
   "id": "d3bf4a8a",
   "metadata": {},
   "outputs": [],
   "source": [
    "gbr_4=GradientBoostingRegressor()\n",
    "gbr_4.fit(X_train_4,y_train_4)\n",
    "y_pred_train_gbr_4=gbr_4.predict(X_train_4)\n",
    "y_pred_train_gbr_44=np.around(y_pred_train_gbr_4,2)\n",
    "np.savetxt(\"y_tarin_pred_f.csv\",y_pred_train_gbr_44,delimiter=',')\n",
    "y_pred_test_gbr_4=gbr_4.predict(X_test_4)\n",
    "y_pred_test_gbr_44=np.around(y_pred_test_gbr_4,2)\n",
    "np.savetxt(\"y_test_pred_f.csv\",y_pred_test_gbr_44,delimiter=',')"
   ]
  },
  {
   "cell_type": "code",
   "execution_count": 43,
   "id": "63a319f7",
   "metadata": {},
   "outputs": [
    {
     "data": {
      "text/plain": [
       "Text(0, 0.5, 'prediction')"
      ]
     },
     "execution_count": 43,
     "metadata": {},
     "output_type": "execute_result"
    },
    {
     "data": {
      "image/png": "[encoded data removed]",
      "text/plain": [
       "<Figure size 600x600 with 1 Axes>"
      ]
     },
     "metadata": {},
     "output_type": "display_data"
    }
   ],
   "source": [
    "plt.figure(figsize=(6,6))\n",
    "plt.scatter(y_train_4,y_pred_train_gbr_4,alpha=0.5,color='blue',label='training')\n",
    "plt.scatter(y_test_4,y_pred_test_gbr_4,alpha=0.5,color='red',label='test')\n",
    "plt.legend()\n",
    "plt.xlabel('DFT_top4')\n",
    "plt.ylabel('prediction')"
   ]
  },
  {
   "cell_type": "code",
   "execution_count": 44,
   "id": "da79fda6",
   "metadata": {},
   "outputs": [
    {
     "name": "stdout",
     "output_type": "stream",
     "text": [
      "RMSE(training_4)0.074\n",
      "RMSE(test_4)0.195\n"
     ]
    }
   ],
   "source": [
    "rmse_tr_gbr_4=mean_squared_error(y_train_4,y_pred_train_gbr_4,squared=False)\n",
    "rmse_te_gbr_4=mean_squared_error(y_test_4,y_pred_test_gbr_4,squared=False)\n",
    "print('RMSE(training_4)%.3f'%rmse_tr_gbr_4)\n",
    "print('RMSE(test_4)%.3f'%rmse_te_gbr_4)"
   ]
  },
  {
   "cell_type": "code",
   "execution_count": 45,
   "id": "fc3ed245",
   "metadata": {},
   "outputs": [
    {
     "name": "stdout",
     "output_type": "stream",
     "text": [
      "cv result:\n",
      "Flod: 10,mean R2_4:0.931\n",
      "Flod: 10,mean RMSE_4:-0.181\n"
     ]
    }
   ],
   "source": [
    "crossvalidation=KFold(n_splits=10,shuffle=True)\n",
    "r2_scores_gbr_4=cross_val_score(gbr_4,X_4,y,scoring='r2',cv=crossvalidation)\n",
    "rmse_scores_gbr_4=cross_val_score(gbr_4,X_4,y,scoring='neg_root_mean_squared_error'\n",
    "                               ,cv=crossvalidation)\n",
    "print('cv result:')\n",
    "print('Flod: %i,mean R2_4:%.3f'%(len(r2_scores_gbr_4),r2_scores_gbr_4.mean()))\n",
    "print('Flod: %i,mean RMSE_4:%.3f'%(len(rmse_scores_gbr_4),rmse_scores_gbr_4.mean()))"
   ]
  },
  {
   "cell_type": "markdown",
   "id": "7b5c096b",
   "metadata": {},
   "source": [
    "对比三者RMSE误差"
   ]
  },
  {
   "cell_type": "code",
   "execution_count": 46,
   "id": "633fa696",
   "metadata": {},
   "outputs": [
    {
     "name": "stdout",
     "output_type": "stream",
     "text": [
      "RMSE(training)0.034\n",
      "RMSE(test)0.169\n",
      "\n",
      "RMSE(training_6)0.047\n",
      "RMSE(test_6)0.158\n",
      "\n",
      "RMSE(training_4)0.074\n",
      "RMSE(test_4)0.195\n"
     ]
    }
   ],
   "source": [
    "print('RMSE(training)%.3f'%rmse_tr_gbr)\n",
    "print('RMSE(test)%.3f'%rmse_te_gbr)\n",
    "print()\n",
    "print('RMSE(training_6)%.3f'%rmse_tr_gbr_6)\n",
    "print('RMSE(test_6)%.3f'%rmse_te_gbr_6)\n",
    "print()\n",
    "print('RMSE(training_4)%.3f'%rmse_tr_gbr_4)\n",
    "print('RMSE(test_4)%.3f'%rmse_te_gbr_4)"
   ]
  },
  {
   "cell_type": "markdown",
   "id": "641c29b8",
   "metadata": {},
   "source": [
    "对比三者R2误差"
   ]
  },
  {
   "cell_type": "code",
   "execution_count": 47,
   "id": "a615dd3f",
   "metadata": {},
   "outputs": [
    {
     "name": "stdout",
     "output_type": "stream",
     "text": [
      "Flod: 10,mean R2:0.970\n",
      "Flod: 10,mean RMSE:-0.129\n",
      "\n",
      "Flod: 10,mean R2_6:0.954\n",
      "Flod: 10,mean RMSE_6:-0.135\n",
      "\n",
      "Flod: 10,mean R2_4:0.931\n",
      "Flod: 10,mean RMSE_4:-0.181\n"
     ]
    }
   ],
   "source": [
    "print('Flod: %i,mean R2:%.3f'%(len(r2_scores_gbr),r2_scores_gbr.mean()))\n",
    "print('Flod: %i,mean RMSE:%.3f'%(len(rmse_scores_gbr),rmse_scores_gbr.mean()))\n",
    "print()\n",
    "print('Flod: %i,mean R2_6:%.3f'%(len(r2_scores_gbr_6),r2_scores_gbr_6.mean()))\n",
    "print('Flod: %i,mean RMSE_6:%.3f'%(len(rmse_scores_gbr_6),rmse_scores_gbr_6.mean()))\n",
    "print()\n",
    "print('Flod: %i,mean R2_4:%.3f'%(len(r2_scores_gbr_4),r2_scores_gbr_4.mean()))\n",
    "print('Flod: %i,mean RMSE_4:%.3f'%(len(rmse_scores_gbr_4),rmse_scores_gbr_4.mean()))"
   ]
  }
 ],
 "metadata": {
  "kernelspec": {
   "display_name": "lzh",
   "language": "python",
   "name": "lzh"
  },
  "language_info": {
   "codemirror_mode": {
    "name": "ipython",
    "version": 3
   },
   "file_extension": ".py",
   "mimetype": "text/x-python",
   "name": "python",
   "nbconvert_exporter": "python",
   "pygments_lexer": "ipython3",
   "version": "3.9.16"
  }
 },
 "nbformat": 4,
 "nbformat_minor": 5
}
